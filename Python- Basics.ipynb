{
 "cells": [
  {
   "cell_type": "code",
   "execution_count": null,
   "id": "35dce786",
   "metadata": {},
   "outputs": [],
   "source": [
    "x = 10  # Integer"
   ]
  },
  {
   "cell_type": "code",
   "execution_count": null,
   "id": "7cce8929",
   "metadata": {},
   "outputs": [],
   "source": [
    "y = 3.14  # Float\n",
    "name = \"John\"  # String\n",
    "is_valid = True #/ false  # Boolean\n",
    "my_list = [1, 2, 3]  # List\n",
    "my_dict = {\"key\": \"value\"}  # Dictionary\n",
    "\n"
   ]
  },
  {
   "cell_type": "code",
   "execution_count": null,
   "id": "66fc772a",
   "metadata": {},
   "outputs": [],
   "source": [
    "age = 25\n",
    "height = 5.9\n",
    "name = \"John\"\n",
    "is_adult = False\n"
   ]
  },
  {
   "cell_type": "code",
   "execution_count": null,
   "id": "1945a9f1",
   "metadata": {},
   "outputs": [],
   "source": [
    "print(type(age))  \n",
    "print(type(height))    \n",
    "print(type(name))      \n",
    "print(type(is_adult)) \n",
    "\n"
   ]
  },
  {
   "cell_type": "code",
   "execution_count": null,
   "id": "e7afe8a5",
   "metadata": {},
   "outputs": [],
   "source": [
    "False\n"
   ]
  },
  {
   "cell_type": "code",
   "execution_count": null,
   "id": "4f6a7cec",
   "metadata": {},
   "outputs": [],
   "source": [
    "print(True,False)\n"
   ]
  },
  {
   "cell_type": "code",
   "execution_count": null,
   "id": "ac7ddff7",
   "metadata": {},
   "outputs": [],
   "source": [
    "type(True)\n"
   ]
  },
  {
   "cell_type": "code",
   "execution_count": null,
   "id": "6e5b10a9",
   "metadata": {},
   "outputs": [],
   "source": [
    "my_str= 'abc123'"
   ]
  },
  {
   "cell_type": "code",
   "execution_count": null,
   "id": "fdc74f07",
   "metadata": {},
   "outputs": [],
   "source": [
    "my_str.istitle()\n"
   ]
  },
  {
   "cell_type": "code",
   "execution_count": null,
   "id": "ccdb7fb4",
   "metadata": {},
   "outputs": [],
   "source": [
    "print(my_str.isalnum()) #check if all char are numbers\n",
    "print(my_str.isalpha()) #check if all char in the string are alphabetic\n",
    "print(my_str.isdigit()) #test if string contains digits\n",
    "print(my_str.istitle()) #test if string contains title words\n",
    "print(my_str.isupper()) #test if string contains upper case\n",
    "print(my_str.islower()) #test if string contains lower case\n",
    "print(my_str.isspace()) #test if string contains spaces\n",
    "print(my_str.endswith('k')) #test if string endswith a d\n",
    "print(my_str.startswith('K')) #test if string startswith H\n"
   ]
  },
  {
   "cell_type": "code",
   "execution_count": null,
   "id": "e926f99e",
   "metadata": {},
   "outputs": [],
   "source": [
    "# Boolean and Logical Operators"
   ]
  },
  {
   "cell_type": "code",
   "execution_count": null,
   "id": "218cd7fc",
   "metadata": {},
   "outputs": [],
   "source": [
    "True and True\n"
   ]
  },
  {
   "cell_type": "code",
   "execution_count": null,
   "id": "802fc14f",
   "metadata": {},
   "outputs": [],
   "source": [
    "True and False\n"
   ]
  },
  {
   "cell_type": "code",
   "execution_count": null,
   "id": "27b49912",
   "metadata": {},
   "outputs": [],
   "source": [
    "True or False\n"
   ]
  },
  {
   "cell_type": "code",
   "execution_count": null,
   "id": "826eb1e7",
   "metadata": {},
   "outputs": [],
   "source": [
    "True or True\n"
   ]
  },
  {
   "cell_type": "code",
   "execution_count": null,
   "id": "06232d90",
   "metadata": {},
   "outputs": [],
   "source": [
    "str_example = 'Hello World'\n",
    "my_str = 'ABC'"
   ]
  },
  {
   "cell_type": "code",
   "execution_count": null,
   "id": "b5c3cb36",
   "metadata": {},
   "outputs": [],
   "source": [
    "my_str.isalpha() or str_example.isnum()\n"
   ]
  },
  {
   "cell_type": "code",
   "execution_count": null,
   "id": "2225220a",
   "metadata": {},
   "outputs": [],
   "source": [
    "# Lists"
   ]
  },
  {
   "cell_type": "code",
   "execution_count": null,
   "id": "bc94b57a",
   "metadata": {},
   "outputs": [],
   "source": [
    "# A list is a data structure in Python that is a mutable, or changeable, ordered sequence of elements. Each element or value that is inside of a list is called an item. Just as strings are defined as characters between quotes, lists are defined by having values between square brackets [ ]\n",
    "\n"
   ]
  },
  {
   "cell_type": "code",
   "execution_count": null,
   "id": "cdd9b442",
   "metadata": {},
   "outputs": [],
   "source": [
    "type([])\n"
   ]
  },
  {
   "cell_type": "code",
   "execution_count": null,
   "id": "2dd4ba1d",
   "metadata": {},
   "outputs": [],
   "source": [
    "lst_example=[]\n"
   ]
  },
  {
   "cell_type": "code",
   "execution_count": null,
   "id": "cd61b992",
   "metadata": {},
   "outputs": [],
   "source": [
    "type(lst_example)\n"
   ]
  },
  {
   "cell_type": "code",
   "execution_count": null,
   "id": "6bf8e963",
   "metadata": {},
   "outputs": [],
   "source": [
    "lst=['Mathematics', 'chemistry', 100, 200, 300, 204]\n"
   ]
  },
  {
   "cell_type": "code",
   "execution_count": null,
   "id": "bc442caf",
   "metadata": {},
   "outputs": [],
   "source": [
    "mixed_list = [1, 'two', 3.0, True]\n"
   ]
  },
  {
   "cell_type": "code",
   "execution_count": null,
   "id": "1d8442e9",
   "metadata": {},
   "outputs": [],
   "source": [
    "# Accessing Elements\n",
    "my_list = [1, 2, 3, 4, 5]\n"
   ]
  },
  {
   "cell_type": "code",
   "execution_count": null,
   "id": "7ca2e871",
   "metadata": {},
   "outputs": [],
   "source": [
    "print(my_list[0])  # Output: 1\n",
    "print(my_list[2])  # Output: 3\n"
   ]
  },
  {
   "cell_type": "code",
   "execution_count": null,
   "id": "ad7d4169",
   "metadata": {},
   "outputs": [],
   "source": [
    "print(my_list[-1])  # Output: 5\n"
   ]
  },
  {
   "cell_type": "code",
   "execution_count": null,
   "id": "792d4ec7",
   "metadata": {},
   "outputs": [],
   "source": [
    "print(my_list[1:3])  # Output: [2, 3]\n",
    "print(my_list[:2])   # Output: [1, 2]\n",
    "print(my_list[2:])   # Output: [3, 4, 5]\n"
   ]
  },
  {
   "cell_type": "code",
   "execution_count": null,
   "id": "6a7c757a",
   "metadata": {},
   "outputs": [],
   "source": [
    "my_list[0] = 10\n",
    "print(my_list)  # Output: [10, 2, 3, 4, 5]\n",
    "\n",
    "my_list.append(6)\n",
    "print(my_list)  # Output: [10, 2, 3, 4, 5, 6]\n",
    "\n",
    "my_list.extend([7, 8, 9])\n",
    "print(my_list)  # Output: [10, 2, 3, 4, 5, 6, 7, 8, 9]\n"
   ]
  },
  {
   "cell_type": "code",
   "execution_count": null,
   "id": "7c174f0a",
   "metadata": {},
   "outputs": [],
   "source": [
    "length = len(my_list)  # Length of the list\n",
    "print(length)  # Output: 9\n",
    "\n",
    "sum_of_list = sum(my_list)  # Sum of all elements in the list\n",
    "print(sum_of_list)  # Output: 44\n",
    "\n",
    "sorted_list = sorted(my_list)  # Returns a new sorted list\n",
    "print(sorted_list)  # Output: [2, 3, 4, 5, 6, 7, 8, 9, 10]\n"
   ]
  },
  {
   "cell_type": "code",
   "execution_count": null,
   "id": "577bc8de",
   "metadata": {},
   "outputs": [],
   "source": [
    "numbers = [1, 2, 3, 4, 5]\n",
    "\n",
    "for num in numbers:\n",
    "    print(num)\n"
   ]
  },
  {
   "cell_type": "code",
   "execution_count": null,
   "id": "df7a7352",
   "metadata": {},
   "outputs": [],
   "source": [
    "matrix = [[1, 2, 3], [4, 5, 6], [7, 8, 9]]\n",
    "\n",
    "for row in matrix:\n",
    "    for num in row:\n",
    "        print(num, end=\" \")\n",
    "    print()  # Print a new line after each row\n"
   ]
  },
  {
   "cell_type": "code",
   "execution_count": null,
   "id": "ca4bce74",
   "metadata": {},
   "outputs": [],
   "source": [
    "colors = [\"red\", \"green\", \"blue\"]\n",
    "\n",
    "for index, color in enumerate(colors):\n",
    "    print(f\"Color at index {index}: {color}\")\n"
   ]
  },
  {
   "cell_type": "code",
   "execution_count": null,
   "id": "38057c5c",
   "metadata": {},
   "outputs": [],
   "source": [
    "names = [\"Alice\", \"Bob\", \"Charlie\"]\n",
    "\n",
    "for i in range(len(names)):\n",
    "    print(f\"Name at index {i}: {names[i]}\")\n"
   ]
  },
  {
   "cell_type": "code",
   "execution_count": null,
   "id": "634133c6",
   "metadata": {},
   "outputs": [],
   "source": []
  },
  {
   "cell_type": "code",
   "execution_count": 2,
   "id": "13e7a87f",
   "metadata": {},
   "outputs": [
    {
     "name": "stdout",
     "output_type": "stream",
     "text": [
      "Removed element: 5\n",
      "Modified list: [1, 2, 3, 4]\n"
     ]
    }
   ],
   "source": [
    "# Define a list\n",
    "my_list = [1, 2, 3, 4, 5]\n",
    "\n",
    "# Pop the last element from the list\n",
    "removed_element = my_list.pop()\n",
    "\n",
    "# Print the removed element and the modified list\n",
    "print(\"Removed element:\", removed_element)\n",
    "print(\"Modified list:\", my_list)\n"
   ]
  },
  {
   "cell_type": "code",
   "execution_count": 3,
   "id": "97f411e3",
   "metadata": {},
   "outputs": [
    {
     "data": {
      "text/plain": [
       "2"
      ]
     },
     "execution_count": 3,
     "metadata": {},
     "output_type": "execute_result"
    }
   ],
   "source": [
    "lst=[1,1,2,3,4,5]\n",
    "lst.count(1)\n"
   ]
  },
  {
   "cell_type": "code",
   "execution_count": 4,
   "id": "930c33b5",
   "metadata": {},
   "outputs": [],
   "source": [
    "# SETS"
   ]
  },
  {
   "cell_type": "code",
   "execution_count": 5,
   "id": "6e6e2784",
   "metadata": {},
   "outputs": [],
   "source": [
    "#A Set is an unordered collection data type that is iterable, mutable, and has no duplicate elements. Python's set class represents the mathematical notion of a set.This is based on a data structure known as a hash table\n",
    "\n"
   ]
  },
  {
   "cell_type": "code",
   "execution_count": 6,
   "id": "50c1d923",
   "metadata": {},
   "outputs": [
    {
     "name": "stdout",
     "output_type": "stream",
     "text": [
      "set()\n",
      "<class 'set'>\n"
     ]
    }
   ],
   "source": [
    "## Defining an empy set\n",
    "\n",
    "set_var= set()\n",
    "print(set_var)\n",
    "print(type(set_var))\n"
   ]
  },
  {
   "cell_type": "code",
   "execution_count": 7,
   "id": "96d5609c",
   "metadata": {},
   "outputs": [],
   "source": [
    "set_var={1,2,3,4,3}\n"
   ]
  },
  {
   "cell_type": "code",
   "execution_count": 8,
   "id": "235ffa87",
   "metadata": {},
   "outputs": [
    {
     "data": {
      "text/plain": [
       "{1, 2, 3, 4}"
      ]
     },
     "execution_count": 8,
     "metadata": {},
     "output_type": "execute_result"
    }
   ],
   "source": [
    "set_var"
   ]
  },
  {
   "cell_type": "code",
   "execution_count": 9,
   "id": "d8ba8c57",
   "metadata": {},
   "outputs": [
    {
     "name": "stdout",
     "output_type": "stream",
     "text": [
      "{'Avengers', 'Hitman', 'IronMan'}\n"
     ]
    },
    {
     "data": {
      "text/plain": [
       "set"
      ]
     },
     "execution_count": 9,
     "metadata": {},
     "output_type": "execute_result"
    }
   ],
   "source": [
    "set_var={\"Avengers\",\"IronMan\",'Hitman'}\n",
    "print(set_var)\n",
    "type(set_var)\n"
   ]
  },
  {
   "cell_type": "code",
   "execution_count": 16,
   "id": "d01cf626",
   "metadata": {},
   "outputs": [],
   "source": [
    "## Inbuilt function in sets\n",
    "\n",
    "set_var.add(\"Hulk\")\n"
   ]
  },
  {
   "cell_type": "code",
   "execution_count": 17,
   "id": "e5b43f7b",
   "metadata": {},
   "outputs": [
    {
     "data": {
      "text/plain": [
       "{'Avengers', 'Hitman', 'Hulk', 'IronMan'}"
      ]
     },
     "execution_count": 17,
     "metadata": {},
     "output_type": "execute_result"
    }
   ],
   "source": [
    "set_var"
   ]
  },
  {
   "cell_type": "code",
   "execution_count": 25,
   "id": "f5a819c4",
   "metadata": {},
   "outputs": [],
   "source": [
    "set1={\"Avengers\",\"IronMan\",'Hitman'}\n",
    "set2={\"Avengers\",\"IronMan\",'Hitman','Hulk2'}\n"
   ]
  },
  {
   "cell_type": "code",
   "execution_count": 26,
   "id": "80572fef",
   "metadata": {},
   "outputs": [],
   "source": [
    "set2.intersection_update(set1)\n"
   ]
  },
  {
   "cell_type": "code",
   "execution_count": 27,
   "id": "d013d9be",
   "metadata": {},
   "outputs": [
    {
     "data": {
      "text/plain": [
       "{'Avengers', 'Hitman', 'IronMan'}"
      ]
     },
     "execution_count": 27,
     "metadata": {},
     "output_type": "execute_result"
    }
   ],
   "source": [
    "set2\n"
   ]
  },
  {
   "cell_type": "code",
   "execution_count": 31,
   "id": "3eb075df",
   "metadata": {},
   "outputs": [],
   "source": [
    "set1={\"Avengers\",\"IronMan\",'Hitman'}\n",
    "set2={\"Avengers\",\"IronMan\",'Hitman','Hulk2'}\n"
   ]
  },
  {
   "cell_type": "code",
   "execution_count": 32,
   "id": "024b81bf",
   "metadata": {},
   "outputs": [],
   "source": [
    "##Difference \n",
    "a = set2.difference(set1)\n"
   ]
  },
  {
   "cell_type": "code",
   "execution_count": 33,
   "id": "2e5c4b8e",
   "metadata": {},
   "outputs": [
    {
     "data": {
      "text/plain": [
       "{'Hulk2'}"
      ]
     },
     "execution_count": 33,
     "metadata": {},
     "output_type": "execute_result"
    }
   ],
   "source": [
    "a"
   ]
  },
  {
   "cell_type": "code",
   "execution_count": 34,
   "id": "7ccc4801",
   "metadata": {},
   "outputs": [],
   "source": [
    "set2.difference_update(set1)\n"
   ]
  },
  {
   "cell_type": "code",
   "execution_count": 35,
   "id": "64b4d7f0",
   "metadata": {},
   "outputs": [
    {
     "data": {
      "text/plain": [
       "{'Hulk2'}"
      ]
     },
     "execution_count": 35,
     "metadata": {},
     "output_type": "execute_result"
    }
   ],
   "source": [
    "set2"
   ]
  },
  {
   "cell_type": "code",
   "execution_count": 29,
   "id": "ecb8ab45",
   "metadata": {},
   "outputs": [
    {
     "name": "stdout",
     "output_type": "stream",
     "text": [
      "{4, 5}\n"
     ]
    }
   ],
   "source": [
    "set1 = {1, 2, 3}\n",
    "set2 = {3, 4, 5}\n",
    "\n",
    "difference_set = set2.difference(set1)\n",
    "print(difference_set)  # Output: {4, 5}\n"
   ]
  },
  {
   "cell_type": "code",
   "execution_count": null,
   "id": "138775bc",
   "metadata": {},
   "outputs": [],
   "source": [
    "# Dictionaries\n"
   ]
  },
  {
   "cell_type": "code",
   "execution_count": 36,
   "id": "d54e79d0",
   "metadata": {},
   "outputs": [],
   "source": [
    "# A dictionary is a collection which is unordered, changeable and indexed. In Python dictionaries are written with curly brackets, and they have keys and values.\n",
    "\n"
   ]
  },
  {
   "cell_type": "code",
   "execution_count": 37,
   "id": "f58fdf03",
   "metadata": {},
   "outputs": [],
   "source": [
    "dic={}\n"
   ]
  },
  {
   "cell_type": "code",
   "execution_count": 38,
   "id": "2d99eb02",
   "metadata": {},
   "outputs": [
    {
     "data": {
      "text/plain": [
       "dict"
      ]
     },
     "execution_count": 38,
     "metadata": {},
     "output_type": "execute_result"
    }
   ],
   "source": [
    "type(dic)\n"
   ]
  },
  {
   "cell_type": "code",
   "execution_count": 39,
   "id": "4c92368a",
   "metadata": {},
   "outputs": [],
   "source": [
    "set_ex={1,2,3,4,5}\n"
   ]
  },
  {
   "cell_type": "code",
   "execution_count": 40,
   "id": "e0acf13e",
   "metadata": {},
   "outputs": [
    {
     "data": {
      "text/plain": [
       "set"
      ]
     },
     "execution_count": 40,
     "metadata": {},
     "output_type": "execute_result"
    }
   ],
   "source": [
    "type(set_ex)\n"
   ]
  },
  {
   "cell_type": "code",
   "execution_count": 41,
   "id": "84bea9c4",
   "metadata": {},
   "outputs": [],
   "source": [
    "my_dict = {\"key1\": \"value1\", \"key2\": \"value2\", \"key3\": \"value3\"}\n"
   ]
  },
  {
   "cell_type": "code",
   "execution_count": 42,
   "id": "a09f6427",
   "metadata": {},
   "outputs": [],
   "source": [
    "another_dict = dict(key1=\"value1\", key2=\"value2\", key3=\"value3\")\n"
   ]
  },
  {
   "cell_type": "code",
   "execution_count": 43,
   "id": "0cdf6630",
   "metadata": {},
   "outputs": [
    {
     "name": "stdout",
     "output_type": "stream",
     "text": [
      "value1\n"
     ]
    }
   ],
   "source": [
    "print(my_dict[\"key1\"])  # Output: value1\n"
   ]
  },
  {
   "cell_type": "code",
   "execution_count": 44,
   "id": "8b1fdf26",
   "metadata": {},
   "outputs": [],
   "source": [
    "my_dict[\"key2\"] = \"new_value\"\n"
   ]
  },
  {
   "cell_type": "code",
   "execution_count": 45,
   "id": "51f1adff",
   "metadata": {},
   "outputs": [],
   "source": [
    "my_dict[\"key4\"] = \"value4\"\n"
   ]
  },
  {
   "cell_type": "code",
   "execution_count": 46,
   "id": "263c51c0",
   "metadata": {},
   "outputs": [
    {
     "data": {
      "text/plain": [
       "{'key1': 'value1', 'key2': 'new_value', 'key3': 'value3', 'key4': 'value4'}"
      ]
     },
     "execution_count": 46,
     "metadata": {},
     "output_type": "execute_result"
    }
   ],
   "source": [
    "my_dict"
   ]
  },
  {
   "cell_type": "code",
   "execution_count": 47,
   "id": "43b392dd",
   "metadata": {},
   "outputs": [],
   "source": [
    "del my_dict[\"key3\"]  # Removes the key-value pair with key \"key3\"\n"
   ]
  },
  {
   "cell_type": "code",
   "execution_count": 48,
   "id": "62fe2801",
   "metadata": {},
   "outputs": [
    {
     "data": {
      "text/plain": [
       "{'key1': 'value1', 'key2': 'new_value', 'key4': 'value4'}"
      ]
     },
     "execution_count": 48,
     "metadata": {},
     "output_type": "execute_result"
    }
   ],
   "source": [
    "my_dict"
   ]
  },
  {
   "cell_type": "code",
   "execution_count": 49,
   "id": "3f0d4ecf",
   "metadata": {},
   "outputs": [
    {
     "data": {
      "text/plain": [
       "'value4'"
      ]
     },
     "execution_count": 49,
     "metadata": {},
     "output_type": "execute_result"
    }
   ],
   "source": [
    "my_dict.pop(\"key4\")  # Removes and returns the value associated with \"key4\"\n"
   ]
  },
  {
   "cell_type": "code",
   "execution_count": 50,
   "id": "30b61fa0",
   "metadata": {},
   "outputs": [
    {
     "data": {
      "text/plain": [
       "{'key1': 'value1', 'key2': 'new_value'}"
      ]
     },
     "execution_count": 50,
     "metadata": {},
     "output_type": "execute_result"
    }
   ],
   "source": [
    "my_dict"
   ]
  },
  {
   "cell_type": "code",
   "execution_count": 51,
   "id": "5021f5b6",
   "metadata": {},
   "outputs": [
    {
     "name": "stdout",
     "output_type": "stream",
     "text": [
      "key1 value1\n",
      "key2 new_value\n"
     ]
    }
   ],
   "source": [
    "for key in my_dict:\n",
    "    print(key, my_dict[key])\n"
   ]
  },
  {
   "cell_type": "code",
   "execution_count": 52,
   "id": "0f705450",
   "metadata": {},
   "outputs": [
    {
     "name": "stdout",
     "output_type": "stream",
     "text": [
      "key1 value1\n",
      "key2 new_value\n"
     ]
    }
   ],
   "source": [
    "for key, value in my_dict.items():\n",
    "    print(key, value)\n"
   ]
  },
  {
   "cell_type": "code",
   "execution_count": 53,
   "id": "f8a8d894",
   "metadata": {},
   "outputs": [
    {
     "name": "stdout",
     "output_type": "stream",
     "text": [
      "{1: 1, 2: 4, 3: 9, 4: 16, 5: 25}\n"
     ]
    }
   ],
   "source": [
    "squared_dict = {x: x**2 for x in range(1, 6)}\n",
    "print(squared_dict)\n"
   ]
  },
  {
   "cell_type": "code",
   "execution_count": null,
   "id": "3d502cbd",
   "metadata": {},
   "outputs": [],
   "source": [
    "For x = 1, it assigns 1: 1**2 or 1: 1.\n",
    "For x = 2, it assigns 2: 2**2 or 2: 4.\n",
    "For x = 3, it assigns 3: 3**2 or 3: 9.\n",
    "For x = 4, it assigns 4: 4**2 or 4: 16.\n",
    "For x = 5, it assigns 5: 5**2 or 5: 25"
   ]
  }
 ],
 "metadata": {
  "kernelspec": {
   "display_name": "Python 3 (ipykernel)",
   "language": "python",
   "name": "python3"
  },
  "language_info": {
   "codemirror_mode": {
    "name": "ipython",
    "version": 3
   },
   "file_extension": ".py",
   "mimetype": "text/x-python",
   "name": "python",
   "nbconvert_exporter": "python",
   "pygments_lexer": "ipython3",
   "version": "3.9.12"
  }
 },
 "nbformat": 4,
 "nbformat_minor": 5
}
